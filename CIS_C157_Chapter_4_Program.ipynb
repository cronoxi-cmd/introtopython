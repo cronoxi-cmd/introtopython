{
  "nbformat": 4,
  "nbformat_minor": 0,
  "metadata": {
    "colab": {
      "provenance": [],
      "authorship_tag": "ABX9TyOY0pvb2Ychhx3ttrGXDjiu"
    },
    "kernelspec": {
      "name": "python3",
      "display_name": "Python 3"
    },
    "language_info": {
      "name": "python"
    }
  },
  "cells": [
    {
      "cell_type": "code",
      "execution_count": null,
      "metadata": {
        "colab": {
          "base_uri": "https://localhost:8080/"
        },
        "id": "4cgbw8VjTNym",
        "outputId": "7b266d0d-3a82-4c2c-ee5e-aa73739e4d6a"
      },
      "outputs": [
        {
          "output_type": "stream",
          "name": "stdout",
          "text": [
            "Product Inventory:\n",
            "1. silk silk silk tie ($169.95)\n",
            "2. silk formal formal dress ($215.22)\n",
            "3. formal vintage formal shoes ($87.36)\n",
            "4. elegant silk silk tie ($344.51)\n",
            "5. elegant elegant silk shoes ($366.53)\n",
            "6. elegant vintage silk tie ($329.04)\n",
            "7. silk vintage elegant tie ($311.74)\n",
            "8. silk trendy silk handbag ($60.47)\n",
            "9. elegant silk elegant sunglasses ($434.22)\n",
            "10. vintage trendy trendy shoes ($283.05)\n",
            "\n",
            "\n",
            "Customers in the store:\n",
            "stefan is shopping.\n",
            "zoe is shopping.\n",
            "liam is shopping.\n",
            "david is shopping.\n",
            "peter is shopping.\n"
          ]
        }
      ],
      "source": [
        "import random\n",
        "\n",
        "# Define some lists of adjectives and products\n",
        "adjectives = [\"formal\", \"elegant\", \"trendy\", \"vintage\", \"silk\"]\n",
        "products = [\"dress\", \"handbag\", \"shoes\", \"sunglasses\", \"tie\"]\n",
        "\n",
        "# Define a class for product\n",
        "class Product:\n",
        "    # Initialize a product with three adjectives and a random price\n",
        "    def __init__(self):\n",
        "        self.name = \" \".join([random.choice(adjectives) for _ in range(3)]) + \" \" + random.choice(products)\n",
        "        self.price = round(random.uniform(50, 500), 2)  # Adjusted price range for items\n",
        "\n",
        "    # Return the name and price of the product\n",
        "    def __str__(self):\n",
        "        return self.name + \" ($\" + str(self.price) + \")\"\n",
        "\n",
        "# Define a class for inventory\n",
        "class Inventory:\n",
        "    # Initialize the inventory with a list of products\n",
        "    def __init__(self, num_products=10):\n",
        "        self.products = [Product() for _ in range(num_products)]\n",
        "\n",
        "    # Display the product inventory\n",
        "    def display_inventory(self):\n",
        "        print(\"Product Inventory:\")\n",
        "        for idx, product in enumerate(self.products, start=1):\n",
        "            print(f\"{idx}. {product}\")\n",
        "\n",
        "# Define a class for store\n",
        "class Stand:\n",
        "    # Initialize a store with a name, an inventory, a list of customers, and a sale object\n",
        "    def __init__(self, name):\n",
        "        self.name = name\n",
        "        self.inventory = Inventory()\n",
        "        self.customers = []\n",
        "\n",
        "    # Add a customer to the store\n",
        "    def add_customer(self, customer):\n",
        "        self.customers.append(customer)\n",
        "\n",
        "    def get_customers(self):\n",
        "        print(\"\\nCustomers in the store:\")\n",
        "        for customer in self.customers:\n",
        "            print(customer.getName() + \" is shopping.\")\n",
        "\n",
        "    def display_inventory(self):\n",
        "        self.inventory.display_inventory()\n",
        "\n",
        "# Define a class for customer\n",
        "class Customer:\n",
        "    # Initialize a customer with a name and a basket\n",
        "    def __init__(self, name):\n",
        "        self.name = name\n",
        "\n",
        "    def getName(self):\n",
        "        return self.name\n",
        "\n",
        "    # Return the name and the basket of the customer\n",
        "    def __str__(self):\n",
        "        return self.name   #+ \" (\" + str(self.basket) + \")\"\n",
        "\n",
        "# Create a Stand instance\n",
        "stand = Stand(\"crystal clear clothing\")\n",
        "\n",
        "# Define a list of customer names\n",
        "customer_names = [\"stefan\", \"zoe\", \"liam\", \"david\", \"peter\"]\n",
        "\n",
        "# Add customers to the Stand\n",
        "for name in customer_names:\n",
        "    stand.add_customer(Customer(name))\n",
        "\n",
        "# Display the inventory of the Stand\n",
        "stand.display_inventory()\n",
        "\n",
        "# Display a space between the inventory and customers\n",
        "print()\n",
        "\n",
        "# Display the customers in the Stand\n",
        "stand.get_customers()"
      ]
    }
  ]
}