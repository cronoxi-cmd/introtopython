{
  "nbformat": 4,
  "nbformat_minor": 0,
  "metadata": {
    "colab": {
      "provenance": [],
      "authorship_tag": "ABX9TyP+nQ00oNAw4Kor6v/gp7ll"
    },
    "kernelspec": {
      "name": "python3",
      "display_name": "Python 3"
    },
    "language_info": {
      "name": "python"
    }
  },
  "cells": [
    {
      "cell_type": "code",
      "execution_count": null,
      "metadata": {
        "colab": {
          "base_uri": "https://localhost:8080/"
        },
        "id": "v6fiS-pYuNhc",
        "outputId": "35014da2-0454-4c2c-c864-b73f853277af"
      },
      "outputs": [
        {
          "output_type": "stream",
          "name": "stdout",
          "text": [
            "Product Inventory:\n",
            "1. vintage elegant silk dress ($406.11)\n",
            "2. elegant elegant formal handbag ($497.84)\n",
            "3. elegant trendy vintage dress ($499.79)\n",
            "4. elegant trendy formal shoes ($218.69)\n",
            "5. formal elegant silk shoes ($211.31)\n",
            "6. elegant vintage silk shoes ($121.96)\n",
            "7. trendy silk elegant handbag ($323.34)\n",
            "8. vintage vintage formal handbag ($53.91)\n",
            "9. trendy formal trendy dress ($205.04)\n",
            "10. silk vintage formal handbag ($205.23)\n"
          ]
        }
      ],
      "source": [
        "import random\n",
        "\n",
        "# Define some lists of adjectives and products\n",
        "adjectives = [\"formal\", \"elegant\", \"trendy\", \"vintage\", \"silk\"]\n",
        "products = [\"dress\", \"handbag\", \"shoes\", \"sunglasses\", \"tie\"]\n",
        "\n",
        "# Define a class for product\n",
        "class Product:\n",
        "    # Initialize a product with three adjectives and a random price\n",
        "    def __init__(self):\n",
        "        self.name = \" \".join([random.choice(adjectives) for _ in range(3)]) + \" \" + random.choice(products)\n",
        "        self.price = round(random.uniform(50, 500), 2)  # Adjusted price range for items\n",
        "\n",
        "    # Return the name and price of the product\n",
        "    def __str__(self):\n",
        "        return self.name + \" ($\" + str(self.price) + \")\"\n",
        "\n",
        "# Generate a list of 10 products\n",
        "inventory = [Product() for _ in range(10)]\n",
        "\n",
        "# Display the product inventory\n",
        "print(\"Product Inventory:\")\n",
        "for idx, product in enumerate(inventory, start=1):\n",
        "    print(f\"{idx}. {product}\")\n",
        "\n"
      ]
    }
  ]
}