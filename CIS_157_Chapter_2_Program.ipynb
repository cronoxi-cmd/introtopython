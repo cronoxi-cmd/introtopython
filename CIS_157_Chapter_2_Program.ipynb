{
  "nbformat": 4,
  "nbformat_minor": 0,
  "metadata": {
    "colab": {
      "provenance": [],
      "authorship_tag": "ABX9TyMGARGJnJqp3Wt/+2fc2Yb0"
    },
    "kernelspec": {
      "name": "python3",
      "display_name": "Python 3"
    },
    "language_info": {
      "name": "python"
    }
  },
  "cells": [
    {
      "cell_type": "code",
      "execution_count": null,
      "metadata": {
        "colab": {
          "base_uri": "https://localhost:8080/"
        },
        "id": "v6fiS-pYuNhc",
        "outputId": "3118eb5b-8cdc-4bc1-a584-4792ea7d536f"
      },
      "outputs": [
        {
          "output_type": "stream",
          "name": "stdout",
          "text": [
            "Product Inventory:\n",
            "1. formal vintage silk sunglasses ($363.75)\n",
            "2. elegant elegant formal tie ($414.01)\n",
            "3. silk trendy trendy dress ($481.69)\n",
            "4. formal silk elegant sunglasses ($96.93)\n",
            "5. formal vintage vintage handbag ($427.18)\n",
            "6. vintage formal trendy tie ($374.64)\n",
            "7. silk vintage elegant shoes ($384.17)\n",
            "8. trendy trendy trendy tie ($201.86)\n",
            "9. silk trendy silk tie ($172.51)\n",
            "10. formal vintage trendy shoes ($243.59)\n"
          ]
        }
      ],
      "source": [
        "import random\n",
        "\n",
        "# Define some lists of adjectives and products\n",
        "adjectives = [\"formal\", \"elegant\", \"trendy\", \"vintage\", \"silk\"]\n",
        "products = [\"dress\", \"handbag\", \"shoes\", \"sunglasses\", \"tie\"]\n",
        "\n",
        "# Define a class for product\n",
        "class Product:\n",
        "    # Initialize a product with three adjectives and a random price\n",
        "    def __init__(self):\n",
        "        self.name = \" \".join([random.choice(adjectives) for _ in range(3)]) + \" \" + random.choice(products)\n",
        "        self.price = round(random.uniform(50, 500), 2)  # Adjusted price range for items\n",
        "\n",
        "    # Return the name and price of the product\n",
        "    def __str__(self):\n",
        "        return self.name + \" ($\" + str(self.price) + \")\"\n",
        "\n",
        "# Define a class for inventory\n",
        "class Inventory:\n",
        "    # Initialize the inventory with a list of products\n",
        "    def __init__(self, num_products=10):\n",
        "        self.products = [Product() for _ in range(num_products)]\n",
        "\n",
        "    # Display the product inventory\n",
        "    def display_inventory(self):\n",
        "        print(\"Product Inventory:\")\n",
        "        for idx, product in enumerate(self.products, start=1):\n",
        "            print(f\"{idx}. {product}\")\n",
        "\n",
        "# Create an instance of the Inventory class\n",
        "inventory = Inventory()\n",
        "\n",
        "# Display the product inventory\n",
        "inventory.display_inventory()"
      ]
    }
  ]
}