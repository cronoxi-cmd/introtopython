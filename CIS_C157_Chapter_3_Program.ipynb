{
  "nbformat": 4,
  "nbformat_minor": 0,
  "metadata": {
    "colab": {
      "provenance": [],
      "authorship_tag": "ABX9TyMF6HVU5/isypuSuSQsmhd9"
    },
    "kernelspec": {
      "name": "python3",
      "display_name": "Python 3"
    },
    "language_info": {
      "name": "python"
    }
  },
  "cells": [
    {
      "cell_type": "code",
      "execution_count": null,
      "metadata": {
        "colab": {
          "base_uri": "https://localhost:8080/"
        },
        "id": "k3itf3575gJ5",
        "outputId": "00150b33-af14-4b1f-d5a2-a46e5926d6bf"
      },
      "outputs": [
        {
          "output_type": "stream",
          "name": "stdout",
          "text": [
            "Product Inventory:\n",
            "1. silk trendy trendy tie ($137.52)\n",
            "2. elegant formal silk handbag ($254.49)\n",
            "3. elegant vintage formal dress ($147.62)\n",
            "4. silk vintage vintage sunglasses ($456.13)\n",
            "5. formal elegant silk handbag ($94.14)\n",
            "6. formal formal vintage sunglasses ($183.75)\n",
            "7. elegant silk elegant tie ($455.03)\n",
            "8. silk formal elegant handbag ($415.74)\n",
            "9. elegant silk trendy sunglasses ($354.18)\n",
            "10. silk silk elegant handbag ($71.27)\n"
          ]
        }
      ],
      "source": [
        "import random\n",
        "\n",
        "# Define some lists of adjectives and products\n",
        "adjectives = [\"formal\", \"elegant\", \"trendy\", \"vintage\", \"silk\"]\n",
        "products = [\"dress\", \"handbag\", \"shoes\", \"sunglasses\", \"tie\"]\n",
        "\n",
        "# Define a class for product\n",
        "class Product:\n",
        "    # Initialize a product with three adjectives and a random price\n",
        "    def __init__(self):\n",
        "        self.name = \" \".join([random.choice(adjectives) for _ in range(3)]) + \" \" + random.choice(products)\n",
        "        self.price = round(random.uniform(50, 500), 2)  # Adjusted price range for items\n",
        "\n",
        "    # Return the name and price of the product\n",
        "    def __str__(self):\n",
        "        return self.name + \" ($\" + str(self.price) + \")\"\n",
        "\n",
        "# Define a class for inventory\n",
        "class Inventory:\n",
        "    # Initialize the inventory with a list of products\n",
        "    def __init__(self, num_products=10):\n",
        "        self.products = [Product() for _ in range(num_products)]\n",
        "\n",
        "    # Display the product inventory\n",
        "    def display_inventory(self):\n",
        "        print(\"Product Inventory:\")\n",
        "        for idx, product in enumerate(self.products, start=1):\n",
        "            print(f\"{idx}. {product}\")\n",
        "\n",
        "# Define a class for the store\n",
        "class Store:\n",
        "    # Initialize the store with an inventory\n",
        "    def __init__(self, inventory_size=10):\n",
        "        self.inventory = Inventory(inventory_size)\n",
        "\n",
        "    # Display the store's inventory\n",
        "    def display_store_inventory(self):\n",
        "        self.inventory.display_inventory()\n",
        "\n",
        "# Create an instance of the Store class\n",
        "store = Store()\n",
        "\n",
        "# Display the store's inventory\n",
        "store.display_store_inventory()"
      ]
    }
  ]
}