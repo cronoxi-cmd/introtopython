{
  "nbformat": 4,
  "nbformat_minor": 0,
  "metadata": {
    "colab": {
      "provenance": [],
      "authorship_tag": "ABX9TyPTzhQ5mcRTZLAsAFqb40jU"
    },
    "kernelspec": {
      "name": "python3",
      "display_name": "Python 3"
    },
    "language_info": {
      "name": "python"
    }
  },
  "cells": [
    {
      "cell_type": "code",
      "execution_count": null,
      "metadata": {
        "colab": {
          "base_uri": "https://localhost:8080/"
        },
        "id": "hDNlTPeXd1_C",
        "outputId": "eee160e3-b15c-4977-b892-3e7bb24827d5"
      },
      "outputs": [
        {
          "output_type": "stream",
          "name": "stdout",
          "text": [
            "Product Inventory:\n",
            "1. elegant trendy elegant shoes ($268.73)\n",
            "2. elegant formal silk dress ($403.04)\n",
            "3. trendy silk silk tie ($410.6)\n",
            "4. formal silk silk sunglasses ($318.65)\n",
            "5. formal trendy trendy sunglasses ($378.53)\n",
            "6. formal silk vintage handbag ($254.08)\n",
            "7. vintage elegant elegant dress ($349.48)\n",
            "8. trendy formal elegant sunglasses ($242.73)\n",
            "9. vintage trendy trendy sunglasses ($128.1)\n",
            "10. elegant trendy vintage sunglasses ($398.21)\n"
          ]
        }
      ],
      "source": [
        "import random\n",
        "\n",
        "# Define some lists of adjectives and products\n",
        "adjectives = [\"formal\", \"elegant\", \"trendy\", \"vintage\", \"silk\"]\n",
        "products = [\"dress\", \"handbag\", \"shoes\", \"sunglasses\", \"tie\"]\n",
        "\n",
        "# Define a class for product\n",
        "class Product:\n",
        "    # Initialize a product with three adjectives and a random price\n",
        "    def __init__(self):\n",
        "        self.name = \" \".join([random.choice(adjectives) for _ in range(3)]) + \" \" + random.choice(products)\n",
        "        self.price = round(random.uniform(50, 500), 2) # Adjusted price range for items\n",
        "\n",
        "    # Return the name and price of the product\n",
        "    def __str__(self):\n",
        "        return self.name + \" ($\" + str(self.price) + \")\"\n",
        "\n",
        "# Define a class for inventory\n",
        "class Inventory:\n",
        "    # Initialize the inventory with a list of products\n",
        "    def __init__(self, num_products=10):\n",
        "        self.products = [Product() for _ in range(num_products)]\n",
        "\n",
        "    # Display the product inventory\n",
        "    def display_inventory(self):\n",
        "        print(\"Product Inventory:\")\n",
        "        for idx, product in enumerate(self.products, start=1):\n",
        "            print(f\"{idx}. {product}\")\n",
        "\n",
        "# Define a class for the store\n",
        "class Store:\n",
        "    # Initialize the store with an inventory\n",
        "    def __init__(self, inventory_size=10):\n",
        "        self.inventory = Inventory(inventory_size)\n",
        "\n",
        "    # Display the store's inventory\n",
        "    def display_store_inventory(self):\n",
        "        self.inventory.display_inventory()\n",
        "\n",
        "# Create an instance of the Store class\n",
        "store = Store()\n",
        "\n",
        "# Display the store's inventory\n",
        "store.display_store_inventory()"
      ]
    }
  ]
}
