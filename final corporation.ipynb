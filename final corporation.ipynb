{
  "nbformat": 4,
  "nbformat_minor": 0,
  "metadata": {
    "colab": {
      "provenance": [],
      "authorship_tag": "ABX9TyOd/SRRFXN4WhbBEwiEnOh3"
    },
    "kernelspec": {
      "name": "python3",
      "display_name": "Python 3"
    },
    "language_info": {
      "name": "python"
    }
  },
  "cells": [
    {
      "cell_type": "code",
      "source": [
        "# Import necessary libraries\n",
        "import random\n",
        "import pandas as pd\n",
        "\n",
        "# Define some lists of adjectives and products\n",
        "adjectives = [\"formal\", \"elegant\", \"trendy\", \"vintage\", \"silk\"]\n",
        "products = [\"dress\", \"handbag\", \"shoes\", \"sunglasses\", \"tie\"]\n",
        "\n",
        "# Define a class for product\n",
        "class Product:\n",
        "    # Initialize a product with three adjectives and a random price\n",
        "    def __init__(self):\n",
        "        self.name = \" \".join([random.choice(adjectives) for _ in range(3)]) + \" \" + random.choice(products)\n",
        "        self.price = round(random.uniform(50, 500), 2)  # Adjusted price range for items\n",
        "\n",
        "    # Return the name and price of the product\n",
        "    def __str__(self):\n",
        "        return self.name + \" ($\" + str(self.price) + \")\""
      ],
      "metadata": {
        "id": "ECxqQICtVzsu"
      },
      "execution_count": 5,
      "outputs": []
    },
    {
      "cell_type": "markdown",
      "source": [
        "defines the Product class with random names and prices, and imports necessary libraries."
      ],
      "metadata": {
        "id": "jDJdH2MLV0qU"
      }
    },
    {
      "cell_type": "code",
      "source": [
        "# Define a class for customer\n",
        "class Customer:\n",
        "    # Initialize a customer with a name and a basket\n",
        "    def __init__(self, name):\n",
        "        self.name = name\n",
        "        self.basket = Basket()  # Initialize an empty basket for the customer\n",
        "\n",
        "    def get_name(self):\n",
        "        return self.name\n",
        "\n",
        "    # Return the name and the basket of the customer\n",
        "    def __str__(self):\n",
        "        return self.name   #+ \" (\" + str(self.basket) + \")\"\n",
        "\n",
        "# Define a class for basket\n",
        "class Basket:\n",
        "    # Initialize a basket with an empty list of products\n",
        "    def __init__(self):\n",
        "        self.products = []\n",
        "\n",
        "    # Add a product to the basket\n",
        "    def add(self, product):\n",
        "        self.products.append(product)\n",
        "\n",
        "    # Calculate total price of items in the basket\n",
        "    def calculate_total(self):\n",
        "        total = 0\n",
        "        for product in self.products:\n",
        "            total += product.price\n",
        "        return round(total, 2)\n",
        "\n",
        "    # Return the list of products in the basket\n",
        "    def __str__(self):\n",
        "        result = \"Basket:\\n\"\n",
        "        for product in self.products:\n",
        "            result += str(product) + \"\\n\"\n",
        "        return result"
      ],
      "metadata": {
        "id": "eF-_aVUgV-w_"
      },
      "execution_count": 6,
      "outputs": []
    },
    {
      "cell_type": "markdown",
      "source": [
        "defines Customer and Basket classes to manage customers and their shopping baskets."
      ],
      "metadata": {
        "id": "lzNx9L67WQRq"
      }
    },
    {
      "cell_type": "code",
      "source": [
        "# Define a class for inventory\n",
        "class Inventory:\n",
        "    # Initialize the inventory with a list of products\n",
        "    def __init__(self, num_products=10):\n",
        "        self.products = [Product() for _ in range(num_products)]\n",
        "\n",
        "    # Display the product inventory\n",
        "    def display_inventory(self):\n",
        "        print(\"Product Inventory:\")\n",
        "        for idx, product in enumerate(self.products, start=1):\n",
        "            print(f\"{idx}. {product}\")\n",
        "\n",
        "    # Calculate total price of items in the inventory\n",
        "    def calculate_total(self):\n",
        "        total = 0\n",
        "        for product in self.products:\n",
        "            total += product.price\n",
        "        return round(total, 2)"
      ],
      "metadata": {
        "id": "khBEve_sWCoS"
      },
      "execution_count": 7,
      "outputs": []
    },
    {
      "cell_type": "markdown",
      "source": [
        "defines the Inventory class to manage and display a store's products."
      ],
      "metadata": {
        "id": "fn2QKHeRWTo9"
      }
    },
    {
      "cell_type": "code",
      "source": [
        "# Define a class for store\n",
        "class Stand:\n",
        "    # Initialize a store with a name, an inventory, a list of customers, and a sale object\n",
        "    def __init__(self, name):\n",
        "        self.name = name\n",
        "        self.inventory = Inventory()\n",
        "        self.customers = []\n",
        "\n",
        "    # Add a customer to the store\n",
        "    def add_customer(self, customer):\n",
        "        self.customers.append(customer)\n",
        "\n",
        "    def get_customers(self):\n",
        "        print(\"\\nCustomers in the store:\")\n",
        "        for customer in self.customers:\n",
        "            print(customer.get_name() + \" is shopping.\")\n",
        "\n",
        "    def display_inventory(self):\n",
        "        self.inventory.display_inventory()\n",
        "\n",
        "    # Run the simulation for the store\n",
        "    def run(self):\n",
        "        print(\"Welcome to \" + self.name + \"!\")\n",
        "        self.inventory.display_inventory()\n",
        "        print(\"We have \" + str(len(self.customers)) + \" customers today.\")\n",
        "\n",
        "        for customer in self.customers: # Iterate over the customers\n",
        "            print(\"Customer \" + customer.get_name() + \" is shopping.\")\n",
        "            basket = Basket()  # Create a basket for the customer\n",
        "            for _ in range(random.randint(1, 5)):  # Randomly add 1 to 5 products to the basket\n",
        "                product = random.choice(self.inventory.products)\n",
        "                basket.add(product)\n",
        "                print(\"Customer \" + customer.get_name() + \" added \" + str(product) + \" to their basket.\")\n",
        "            total_price = basket.calculate_total()  # Calculate total price\n",
        "            print(\"Customer \" + customer.get_name() + \" checked out and paid $\" + str(total_price) + \".\")\n",
        "            print()\n",
        "        return self.inventory.calculate_total()  # Return total sales for the store"
      ],
      "metadata": {
        "id": "UnBQcKnLWFC0"
      },
      "execution_count": 8,
      "outputs": []
    },
    {
      "cell_type": "markdown",
      "source": [
        "defines the Stand class to simulate a store's operations including customer interactions."
      ],
      "metadata": {
        "id": "tuOw2hnaWYQV"
      }
    },
    {
      "cell_type": "code",
      "source": [
        "# Define a class for corporation\n",
        "class Corporation:\n",
        "    # Initialize a corporation with a name and a list of stores\n",
        "    def __init__(self, name):\n",
        "        self.name = name\n",
        "        self.stands = []\n",
        "\n",
        "    # Add a store to the corporation\n",
        "    def add_stand(self, stand):\n",
        "        self.stands.append(stand)\n",
        "\n",
        "    # Run the simulation for the corporation\n",
        "    def simulate(self):\n",
        "        print(\"Welcome to \" + self.name + \"!\")\n",
        "        print(\"We have \" + str(len(self.stands)) + \" stores in our corporation.\")\n",
        "        # Iterate over the stores\n",
        "        total_sales = 0\n",
        "        store_analytics = []\n",
        "        for store in self.stands:\n",
        "            # Run the simulation for each store\n",
        "            total_sales += store.run()\n",
        "            # Record store analytics\n",
        "            store_analytics.append({'name': store.name, 'total_sales': total_sales})\n",
        "        print(\"The total sales for \" + self.name + \" today is $\" + str(total_sales) + \".\")\n",
        "        return store_analytics\n",
        "\n",
        "    # Get analytics for all stores\n",
        "    def get_analytics(self):\n",
        "        store_analytics = []\n",
        "        for store in self.stands:\n",
        "            store_analytics.append({'name': store.name, 'total_sales': store.inventory.calculate_total()})\n",
        "        return store_analytics"
      ],
      "metadata": {
        "id": "7nQP6e2sWGpT"
      },
      "execution_count": 9,
      "outputs": []
    },
    {
      "cell_type": "markdown",
      "source": [
        "defines the Corporation class to manage multiple stores and simulate overall operations."
      ],
      "metadata": {
        "id": "kPi-t5e-WaC5"
      }
    },
    {
      "cell_type": "code",
      "source": [
        "# Define a class for analytics\n",
        "class Analytics:\n",
        "    def __init__(self):\n",
        "        self.store_analytics = []\n",
        "\n",
        "    def add_analytics(self, analytics):  #send it your collected store results\n",
        "        self.store_analytics = analytics\n",
        "\n",
        "    def make_csv(self):\n",
        "        df = pd.DataFrame(self.store_analytics)\n",
        "        entitle = \"latest-store.csv\"  #title for the file we'll build from it\n",
        "        df.to_csv(entitle)"
      ],
      "metadata": {
        "id": "rk03rgv1WHL_"
      },
      "execution_count": 10,
      "outputs": []
    },
    {
      "cell_type": "markdown",
      "source": [
        "defines the Analytics class to collect and save sales data to a CSV file."
      ],
      "metadata": {
        "id": "hRIixlMOWbQ2"
      }
    },
    {
      "cell_type": "markdown",
      "source": [
        "Initializes the corporation and stores, adds customers, runs the simulation, and saves analytics."
      ],
      "metadata": {
        "id": "VF7XRPaoWeK7"
      }
    },
    {
      "cell_type": "code",
      "source": [
        "# Create a corporation object\n",
        "corp = Corporation(\"Vincent's Amazing Corporation\")\n",
        "\n",
        "# Create some store objects and add them to the corporation\n",
        "store1 = Stand(\"Crystal Clear Clothing\")\n",
        "store2 = Stand(\"ZPP Frontier\")\n",
        "store3 = Stand(\"Hello Outfitters\")\n",
        "corp.add_stand(store1)\n",
        "corp.add_stand(store2)\n",
        "corp.add_stand(store3)\n",
        "\n",
        "# Define a list of customer names\n",
        "customer_names = [\"alex\", \"jeff\", \"zoe\", \"bob\", \"stefan\", \"daniel\"]\n",
        "\n",
        "# Add customers to the stores\n",
        "for name in customer_names:\n",
        "    store1.add_customer(Customer(name))\n",
        "    store2.add_customer(Customer(name))\n",
        "    store3.add_customer(Customer(name))\n",
        "\n",
        "# Simulate the corporation\n",
        "corp.simulate()\n",
        "\n",
        "# Display analytics and save to CSV\n",
        "analytic = Analytics()\n",
        "analytic.add_analytics(corp.get_analytics())\n",
        "analytic.make_csv()"
      ],
      "metadata": {
        "colab": {
          "base_uri": "https://localhost:8080/"
        },
        "id": "XOxMHvzOWJf1",
        "outputId": "c7bf1c80-0362-4351-af95-b20c505f785d"
      },
      "execution_count": 11,
      "outputs": [
        {
          "output_type": "stream",
          "name": "stdout",
          "text": [
            "Welcome to Vincent's Amazing Corporation!\n",
            "We have 3 stores in our corporation.\n",
            "Welcome to Crystal Clear Clothing!\n",
            "Product Inventory:\n",
            "1. silk silk silk shoes ($476.44)\n",
            "2. vintage elegant trendy handbag ($77.47)\n",
            "3. elegant vintage silk handbag ($137.95)\n",
            "4. vintage vintage vintage handbag ($207.1)\n",
            "5. formal silk trendy tie ($464.06)\n",
            "6. formal formal trendy shoes ($486.58)\n",
            "7. elegant trendy elegant handbag ($374.87)\n",
            "8. vintage silk formal shoes ($77.7)\n",
            "9. formal vintage formal handbag ($307.51)\n",
            "10. trendy formal vintage sunglasses ($67.15)\n",
            "We have 6 customers today.\n",
            "Customer alex is shopping.\n",
            "Customer alex added formal silk trendy tie ($464.06) to their basket.\n",
            "Customer alex added formal formal trendy shoes ($486.58) to their basket.\n",
            "Customer alex added formal silk trendy tie ($464.06) to their basket.\n",
            "Customer alex checked out and paid $1414.7.\n",
            "\n",
            "Customer jeff is shopping.\n",
            "Customer jeff added elegant trendy elegant handbag ($374.87) to their basket.\n",
            "Customer jeff added elegant vintage silk handbag ($137.95) to their basket.\n",
            "Customer jeff checked out and paid $512.82.\n",
            "\n",
            "Customer zoe is shopping.\n",
            "Customer zoe added formal vintage formal handbag ($307.51) to their basket.\n",
            "Customer zoe added elegant vintage silk handbag ($137.95) to their basket.\n",
            "Customer zoe added formal vintage formal handbag ($307.51) to their basket.\n",
            "Customer zoe added formal formal trendy shoes ($486.58) to their basket.\n",
            "Customer zoe checked out and paid $1239.55.\n",
            "\n",
            "Customer bob is shopping.\n",
            "Customer bob added formal formal trendy shoes ($486.58) to their basket.\n",
            "Customer bob checked out and paid $486.58.\n",
            "\n",
            "Customer stefan is shopping.\n",
            "Customer stefan added elegant vintage silk handbag ($137.95) to their basket.\n",
            "Customer stefan added vintage vintage vintage handbag ($207.1) to their basket.\n",
            "Customer stefan added formal vintage formal handbag ($307.51) to their basket.\n",
            "Customer stefan checked out and paid $652.56.\n",
            "\n",
            "Customer daniel is shopping.\n",
            "Customer daniel added elegant vintage silk handbag ($137.95) to their basket.\n",
            "Customer daniel added formal formal trendy shoes ($486.58) to their basket.\n",
            "Customer daniel added trendy formal vintage sunglasses ($67.15) to their basket.\n",
            "Customer daniel checked out and paid $691.68.\n",
            "\n",
            "Welcome to ZPP Frontier!\n",
            "Product Inventory:\n",
            "1. vintage trendy vintage handbag ($51.53)\n",
            "2. vintage vintage silk handbag ($215.91)\n",
            "3. trendy vintage elegant handbag ($95.04)\n",
            "4. vintage formal silk handbag ($482.44)\n",
            "5. formal silk elegant sunglasses ($270.82)\n",
            "6. trendy formal elegant shoes ($308.84)\n",
            "7. vintage elegant elegant shoes ($450.93)\n",
            "8. trendy elegant elegant sunglasses ($397.23)\n",
            "9. formal formal silk handbag ($493.1)\n",
            "10. silk formal elegant shoes ($403.28)\n",
            "We have 6 customers today.\n",
            "Customer alex is shopping.\n",
            "Customer alex added trendy elegant elegant sunglasses ($397.23) to their basket.\n",
            "Customer alex added formal silk elegant sunglasses ($270.82) to their basket.\n",
            "Customer alex checked out and paid $668.05.\n",
            "\n",
            "Customer jeff is shopping.\n",
            "Customer jeff added trendy formal elegant shoes ($308.84) to their basket.\n",
            "Customer jeff added formal silk elegant sunglasses ($270.82) to their basket.\n",
            "Customer jeff added vintage trendy vintage handbag ($51.53) to their basket.\n",
            "Customer jeff added formal formal silk handbag ($493.1) to their basket.\n",
            "Customer jeff checked out and paid $1124.29.\n",
            "\n",
            "Customer zoe is shopping.\n",
            "Customer zoe added trendy vintage elegant handbag ($95.04) to their basket.\n",
            "Customer zoe checked out and paid $95.04.\n",
            "\n",
            "Customer bob is shopping.\n",
            "Customer bob added trendy elegant elegant sunglasses ($397.23) to their basket.\n",
            "Customer bob added vintage trendy vintage handbag ($51.53) to their basket.\n",
            "Customer bob added formal formal silk handbag ($493.1) to their basket.\n",
            "Customer bob added vintage elegant elegant shoes ($450.93) to their basket.\n",
            "Customer bob checked out and paid $1392.79.\n",
            "\n",
            "Customer stefan is shopping.\n",
            "Customer stefan added silk formal elegant shoes ($403.28) to their basket.\n",
            "Customer stefan added trendy formal elegant shoes ($308.84) to their basket.\n",
            "Customer stefan checked out and paid $712.12.\n",
            "\n",
            "Customer daniel is shopping.\n",
            "Customer daniel added trendy vintage elegant handbag ($95.04) to their basket.\n",
            "Customer daniel added vintage trendy vintage handbag ($51.53) to their basket.\n",
            "Customer daniel added vintage formal silk handbag ($482.44) to their basket.\n",
            "Customer daniel added vintage trendy vintage handbag ($51.53) to their basket.\n",
            "Customer daniel added vintage formal silk handbag ($482.44) to their basket.\n",
            "Customer daniel checked out and paid $1162.98.\n",
            "\n",
            "Welcome to Hello Outfitters!\n",
            "Product Inventory:\n",
            "1. formal silk silk sunglasses ($219.0)\n",
            "2. formal silk formal sunglasses ($60.77)\n",
            "3. formal elegant elegant handbag ($341.84)\n",
            "4. trendy elegant vintage shoes ($334.62)\n",
            "5. vintage trendy vintage tie ($287.53)\n",
            "6. vintage vintage silk sunglasses ($74.11)\n",
            "7. elegant silk elegant shoes ($473.22)\n",
            "8. elegant formal trendy tie ($410.79)\n",
            "9. formal formal silk tie ($234.28)\n",
            "10. vintage formal vintage tie ($181.93)\n",
            "We have 6 customers today.\n",
            "Customer alex is shopping.\n",
            "Customer alex added vintage vintage silk sunglasses ($74.11) to their basket.\n",
            "Customer alex added vintage trendy vintage tie ($287.53) to their basket.\n",
            "Customer alex added formal silk silk sunglasses ($219.0) to their basket.\n",
            "Customer alex added trendy elegant vintage shoes ($334.62) to their basket.\n",
            "Customer alex added formal silk silk sunglasses ($219.0) to their basket.\n",
            "Customer alex checked out and paid $1134.26.\n",
            "\n",
            "Customer jeff is shopping.\n",
            "Customer jeff added vintage formal vintage tie ($181.93) to their basket.\n",
            "Customer jeff added formal formal silk tie ($234.28) to their basket.\n",
            "Customer jeff checked out and paid $416.21.\n",
            "\n",
            "Customer zoe is shopping.\n",
            "Customer zoe added trendy elegant vintage shoes ($334.62) to their basket.\n",
            "Customer zoe checked out and paid $334.62.\n",
            "\n",
            "Customer bob is shopping.\n",
            "Customer bob added vintage vintage silk sunglasses ($74.11) to their basket.\n",
            "Customer bob added trendy elegant vintage shoes ($334.62) to their basket.\n",
            "Customer bob added formal silk formal sunglasses ($60.77) to their basket.\n",
            "Customer bob added elegant formal trendy tie ($410.79) to their basket.\n",
            "Customer bob checked out and paid $880.29.\n",
            "\n",
            "Customer stefan is shopping.\n",
            "Customer stefan added trendy elegant vintage shoes ($334.62) to their basket.\n",
            "Customer stefan added vintage formal vintage tie ($181.93) to their basket.\n",
            "Customer stefan added elegant formal trendy tie ($410.79) to their basket.\n",
            "Customer stefan checked out and paid $927.34.\n",
            "\n",
            "Customer daniel is shopping.\n",
            "Customer daniel added elegant formal trendy tie ($410.79) to their basket.\n",
            "Customer daniel added formal silk formal sunglasses ($60.77) to their basket.\n",
            "Customer daniel added vintage vintage silk sunglasses ($74.11) to their basket.\n",
            "Customer daniel added formal silk formal sunglasses ($60.77) to their basket.\n",
            "Customer daniel added vintage trendy vintage tie ($287.53) to their basket.\n",
            "Customer daniel checked out and paid $893.97.\n",
            "\n",
            "The total sales for Vincent's Amazing Corporation today is $8464.04.\n"
          ]
        }
      ]
    }
  ]
}