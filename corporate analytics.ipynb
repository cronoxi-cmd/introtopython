{
 "cells": [
  {
   "cell_type": "markdown",
   "metadata": {},
   "source": [
    "## lesson one: class creation, variable access"
   ]
  },
  {
   "cell_type": "markdown",
   "metadata": {},
   "source": [
    "### skill one: create a class\n",
    "\n",
    "Classes know things and they can do things. \n",
    "\n",
    "We need objects to make real programs. They often reflect an architecture, or plan, that organizes a program. They always help a system run more efficiently, and they help organize the program, for the programmer. We can't really make big apps if we aren't using classes, so let's get this concept right now.\n",
    "\n",
    "__init__ is run at the time the class is created, it is short for initialization. \n",
    "\n",
    "the data inside of __init__ is either editable by other programs or not -- sometimes the data is kept secret, to help the class operate. "
